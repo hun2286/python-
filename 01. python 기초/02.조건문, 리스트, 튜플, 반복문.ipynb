{
 "cells": [
  {
   "cell_type": "markdown",
   "id": "9e148ea8-17ee-47d6-9b56-d583378c1702",
   "metadata": {},
   "source": [
    "### 조건문\n",
    "- 상황에 따라 실행 흐름을 다르게 하는 문법\n",
    "\n",
    "```python\n",
    "if True :\n",
    "    코드블럭\n",
    "    코드블럭...\n",
    "```\n",
    "\n",
    "- 콜론 \":\" 들여쓰기 \"space*4, Tab\"가 매우 중요!\n",
    "- 조건문 키워드 : if, elif, else"
   ]
  },
  {
   "cell_type": "code",
   "execution_count": 3,
   "id": "68bcfc4d-1ebb-4030-87e1-da6ab594df5b",
   "metadata": {},
   "outputs": [
    {
     "name": "stdin",
     "output_type": "stream",
     "text": [
      "점수입력 :  105\n"
     ]
    },
    {
     "name": "stdout",
     "output_type": "stream",
     "text": [
      "잘 못 입력하였습니다.\n"
     ]
    }
   ],
   "source": [
    "# 변수 score에 점수를 입력받아서 다음과 같이 학점을 부여하시오\n",
    "score = int(input(\"점수입력 : \"))\n",
    "\n",
    "if score <= 100 & score >= 0:\n",
    "    if 100 >= score >= 90:\n",
    "        grade = \"A\"\n",
    "    elif score >= 80:\n",
    "        grade = \"B\"\n",
    "    elif score >= 70:\n",
    "        grade = \"C\"\n",
    "    elif score >= 60:\n",
    "        grade = \"D\"\n",
    "    else:\n",
    "        grade = \"F\"\n",
    "\n",
    "    print(f\"{score}점은 {grade}학점 입니다.\")\n",
    "else:\n",
    "    print(\"잘 못 입력하였습니다.\")\n",
    "    \n"
   ]
  },
  {
   "cell_type": "markdown",
   "id": "1b5b6651-dc23-4971-b3ef-98f35e51d9a6",
   "metadata": {},
   "source": [
    "### 리스트(list)\n",
    "- 파이썬에서 제공되는 자료형 중 하나\n",
    "- 순서가 있는 <b>수정 가능</b>한 객체의 집합\n",
    "- <b>대괄호 '[ ]'로 작성</b>되어지며, 내부 요소는 콤마 ','로 구분지어 짐\n",
    "\n",
    "### 튜플(tuple)\n",
    "- 파이썬에서 제공되는 자료형 중 하나\n",
    "- 순서가 있는 <b>수정 불가능</b>한 객체의 집합\n",
    "- <b>소괄호 '( )'로 작성</b>되어지며, 내부 요소는 콤마 ','로 구분지어 짐"
   ]
  },
  {
   "cell_type": "code",
   "execution_count": 44,
   "id": "0a74584c-0ca5-4135-bc89-0e3f001d2570",
   "metadata": {},
   "outputs": [],
   "source": [
    "list1 = [1, 2, \"3\", [1, 2, 3]]"
   ]
  },
  {
   "cell_type": "code",
   "execution_count": 45,
   "id": "107ee3a7-6118-4e4d-94b9-36f6c3e5ab21",
   "metadata": {},
   "outputs": [
    {
     "data": {
      "text/plain": [
       "2"
      ]
     },
     "execution_count": 45,
     "metadata": {},
     "output_type": "execute_result"
    }
   ],
   "source": [
    "list1[3][1] # 인덱싱 : 무엇인가를 가리키다! "
   ]
  },
  {
   "cell_type": "code",
   "execution_count": 46,
   "id": "7cb6b06b-dec6-4b60-97db-8660b6fbc85d",
   "metadata": {},
   "outputs": [
    {
     "data": {
      "text/plain": [
       "[2, 3]"
      ]
     },
     "execution_count": 46,
     "metadata": {},
     "output_type": "execute_result"
    }
   ],
   "source": [
    "list1[3][1:] # 슬라이싱 : 무엇인가를 잘라내다!"
   ]
  },
  {
   "cell_type": "code",
   "execution_count": 47,
   "id": "a1057ea7-2cba-4d23-8c41-59f9f67124f7",
   "metadata": {},
   "outputs": [],
   "source": [
    "# 추가\n",
    "list1.append(4) # 맨 뒤에 값을 추가"
   ]
  },
  {
   "cell_type": "code",
   "execution_count": 48,
   "id": "276e9d4c-3878-4d0c-a9a0-6c2fb7afaa0d",
   "metadata": {},
   "outputs": [],
   "source": [
    "list1.insert(3, 3) # 해당 위치에 값을 추가"
   ]
  },
  {
   "cell_type": "code",
   "execution_count": 49,
   "id": "5c3fac10-ad15-4e8a-9378-adbed22a1cca",
   "metadata": {},
   "outputs": [
    {
     "data": {
      "text/plain": [
       "[1, 2, '3', 3, [1, 2, 3], 4]"
      ]
     },
     "execution_count": 49,
     "metadata": {},
     "output_type": "execute_result"
    }
   ],
   "source": [
    "list1"
   ]
  },
  {
   "cell_type": "markdown",
   "id": "64ca54d7-903b-4cd1-a6c1-bd45fcbd725d",
   "metadata": {},
   "source": [
    "### 수정\n",
    "- \"지정(인덱싱, 슬라이싱)\"하고 \"대입\""
   ]
  },
  {
   "cell_type": "code",
   "execution_count": 50,
   "id": "c7389684-e215-4da0-aa99-efaaec42962b",
   "metadata": {},
   "outputs": [],
   "source": [
    "list1[2] = 5"
   ]
  },
  {
   "cell_type": "code",
   "execution_count": 51,
   "id": "c840739b-94bb-44b7-b82f-10d01e5508e0",
   "metadata": {},
   "outputs": [
    {
     "data": {
      "text/plain": [
       "[1, 2, 5, 3, [1, 2, 3], 4]"
      ]
     },
     "execution_count": 51,
     "metadata": {},
     "output_type": "execute_result"
    }
   ],
   "source": [
    "list1"
   ]
  },
  {
   "cell_type": "code",
   "execution_count": 52,
   "id": "a26330e1-85af-4c7e-ad6f-f7b79afd8556",
   "metadata": {},
   "outputs": [],
   "source": [
    "# 삭제\n",
    "list1.remove(3)"
   ]
  },
  {
   "cell_type": "code",
   "execution_count": 53,
   "id": "c02a0609-48c1-4cae-82d4-065b868ae0b1",
   "metadata": {},
   "outputs": [],
   "source": [
    "# del 키워드 : 인덱싱이나 슬라이싱을 수행해서 삭제\n",
    "del list1[3]"
   ]
  },
  {
   "cell_type": "code",
   "execution_count": 54,
   "id": "0f23b45b-1816-4f91-af0f-bc6e02264d3f",
   "metadata": {},
   "outputs": [
    {
     "data": {
      "text/plain": [
       "[1, 2, 5, 4]"
      ]
     },
     "execution_count": 54,
     "metadata": {},
     "output_type": "execute_result"
    }
   ],
   "source": [
    "list1"
   ]
  },
  {
   "cell_type": "code",
   "execution_count": 57,
   "id": "3c1cff5a-c8b6-48ff-b1f5-68d974a67853",
   "metadata": {},
   "outputs": [
    {
     "data": {
      "text/plain": [
       "[9, 77, 103, 15, 3]"
      ]
     },
     "execution_count": 57,
     "metadata": {},
     "output_type": "execute_result"
    }
   ],
   "source": [
    "# 정렬, 길이 확인\n",
    "list2 = [9, 77, 103, 15, 3]\n",
    "list2"
   ]
  },
  {
   "cell_type": "code",
   "execution_count": 58,
   "id": "07fa146c-de87-4e64-a874-df6884c5ec00",
   "metadata": {},
   "outputs": [],
   "source": [
    "list2.sort() # 기본값으로 오름차순"
   ]
  },
  {
   "cell_type": "code",
   "execution_count": 59,
   "id": "667707af-8b9a-4c51-9def-183b229aef78",
   "metadata": {},
   "outputs": [
    {
     "data": {
      "text/plain": [
       "[3, 9, 15, 77, 103]"
      ]
     },
     "execution_count": 59,
     "metadata": {},
     "output_type": "execute_result"
    }
   ],
   "source": [
    "list2"
   ]
  },
  {
   "cell_type": "code",
   "execution_count": 60,
   "id": "b6ba6ffd-cb1b-4afd-9202-f8e0728e1773",
   "metadata": {},
   "outputs": [],
   "source": [
    "list2.sort(reverse = True) # reverse True 설정 시 내림차순으로 전환!"
   ]
  },
  {
   "cell_type": "code",
   "execution_count": 61,
   "id": "048ec69d-8d13-44fb-b309-78d22ba19727",
   "metadata": {},
   "outputs": [
    {
     "data": {
      "text/plain": [
       "[103, 77, 15, 9, 3]"
      ]
     },
     "execution_count": 61,
     "metadata": {},
     "output_type": "execute_result"
    }
   ],
   "source": [
    "list2"
   ]
  },
  {
   "cell_type": "code",
   "execution_count": 62,
   "id": "c2b2cd00-a95a-4fa1-ae52-e3394667c39b",
   "metadata": {},
   "outputs": [
    {
     "data": {
      "text/plain": [
       "5"
      ]
     },
     "execution_count": 62,
     "metadata": {},
     "output_type": "execute_result"
    }
   ],
   "source": [
    "# 길이확인\n",
    "len(list2)"
   ]
  },
  {
   "cell_type": "code",
   "execution_count": 63,
   "id": "072d68a1-973b-49ee-9430-2960f4c0d01f",
   "metadata": {},
   "outputs": [],
   "source": [
    "tuple1 = (1, 2, \"3\", (1, 2, 3), [4, 5, 6])"
   ]
  },
  {
   "cell_type": "code",
   "execution_count": 64,
   "id": "c1de7960-289c-47f4-88a8-c334c878a76c",
   "metadata": {},
   "outputs": [
    {
     "data": {
      "text/plain": [
       "(1, 2, '3', (1, 2, 3), [4, 5, 6])"
      ]
     },
     "execution_count": 64,
     "metadata": {},
     "output_type": "execute_result"
    }
   ],
   "source": [
    "tuple1"
   ]
  },
  {
   "cell_type": "code",
   "execution_count": 85,
   "id": "def1baaf-0b60-46da-853b-58dd0251e888",
   "metadata": {},
   "outputs": [
    {
     "ename": "TypeError",
     "evalue": "'tuple' object does not support item assignment",
     "output_type": "error",
     "traceback": [
      "\u001b[1;31m---------------------------------------------------------------------------\u001b[0m",
      "\u001b[1;31mTypeError\u001b[0m                                 Traceback (most recent call last)",
      "Cell \u001b[1;32mIn[85], line 1\u001b[0m\n\u001b[1;32m----> 1\u001b[0m tuple1[\u001b[38;5;241m2\u001b[39m] \u001b[38;5;241m=\u001b[39m \u001b[38;5;241m1\u001b[39m\n",
      "\u001b[1;31mTypeError\u001b[0m: 'tuple' object does not support item assignment"
     ]
    }
   ],
   "source": [
    "tuple1[2] = 1 # 튜플은 수정 불가능!"
   ]
  },
  {
   "cell_type": "code",
   "execution_count": 86,
   "id": "dc3f08e2-3ee3-4a36-a901-148a3b2292a6",
   "metadata": {},
   "outputs": [],
   "source": [
    "tuple1[-1][1] = 10 # 튜플 내부의 리스트는 수정 가능!"
   ]
  },
  {
   "cell_type": "code",
   "execution_count": 87,
   "id": "1de6d497-0730-4eaa-bdeb-c1e1d4a009f9",
   "metadata": {},
   "outputs": [
    {
     "data": {
      "text/plain": [
       "(1, 2, '3', (1, 2, 3), [4, 10, 6])"
      ]
     },
     "execution_count": 87,
     "metadata": {},
     "output_type": "execute_result"
    }
   ],
   "source": [
    "tuple1"
   ]
  },
  {
   "cell_type": "code",
   "execution_count": 89,
   "id": "57f0ca57-2856-4f21-a39b-730fa1a47c9c",
   "metadata": {},
   "outputs": [],
   "source": [
    "list1 = list(tuple1) # 튜플 안에 요소를 수정하고 하는 경우, list로 형변환!"
   ]
  },
  {
   "cell_type": "code",
   "execution_count": 90,
   "id": "0edf04a7-7f44-486b-94ef-0c975d2d9393",
   "metadata": {},
   "outputs": [],
   "source": [
    "list1[2] = 3"
   ]
  },
  {
   "cell_type": "code",
   "execution_count": 91,
   "id": "0a00eb87-583d-472f-b6fb-3e4bd654789c",
   "metadata": {},
   "outputs": [
    {
     "data": {
      "text/plain": [
       "[1, 2, 3, (1, 2, 3), [4, 10, 6]]"
      ]
     },
     "execution_count": 91,
     "metadata": {},
     "output_type": "execute_result"
    }
   ],
   "source": [
    "list1"
   ]
  },
  {
   "cell_type": "code",
   "execution_count": 92,
   "id": "95339933-4f2d-49ad-8170-6970893b6238",
   "metadata": {},
   "outputs": [
    {
     "data": {
      "text/plain": [
       "(1, 2, 3, 4, 5, 6, 7, 8)"
      ]
     },
     "execution_count": 92,
     "metadata": {},
     "output_type": "execute_result"
    }
   ],
   "source": [
    "tuple2 = (1, 2, 3, 4, 5, 6, 7, 8)\n",
    "tuple2"
   ]
  },
  {
   "cell_type": "code",
   "execution_count": 93,
   "id": "19450021-a584-48d4-8687-d83a6d42edae",
   "metadata": {},
   "outputs": [
    {
     "data": {
      "text/plain": [
       "(1, 2, 3, 4, 5, 6, 7, 8)"
      ]
     },
     "execution_count": 93,
     "metadata": {},
     "output_type": "execute_result"
    }
   ],
   "source": [
    "tuple2 # 튜플은 정렬 불가능! -> 수정(치환)이 일어나기 떄문!"
   ]
  },
  {
   "cell_type": "code",
   "execution_count": 95,
   "id": "516d3209-5bb8-4fd3-a51e-eae1e4f1e1c4",
   "metadata": {},
   "outputs": [
    {
     "data": {
      "text/plain": [
       "(1, 2)"
      ]
     },
     "execution_count": 95,
     "metadata": {},
     "output_type": "execute_result"
    }
   ],
   "source": [
    "# 치환\n",
    "A = 1\n",
    "B = 2\n",
    "\n",
    "A, B"
   ]
  },
  {
   "cell_type": "code",
   "execution_count": 96,
   "id": "dfdbcd45-803e-4dec-9cbe-ffcd876db968",
   "metadata": {},
   "outputs": [
    {
     "data": {
      "text/plain": [
       "(2, 1)"
      ]
     },
     "execution_count": 96,
     "metadata": {},
     "output_type": "execute_result"
    }
   ],
   "source": [
    "temp = A\n",
    "A = B\n",
    "B = temp\n",
    "\n",
    "A, B"
   ]
  },
  {
   "cell_type": "code",
   "execution_count": 97,
   "id": "bc4e5b8c-bc56-4629-baa1-387e4a43fcf4",
   "metadata": {},
   "outputs": [
    {
     "data": {
      "text/plain": [
       "(1, 2)"
      ]
     },
     "execution_count": 97,
     "metadata": {},
     "output_type": "execute_result"
    }
   ],
   "source": [
    "# 파이썬에서의 치환\n",
    "A = 1\n",
    "B = 2\n",
    "\n",
    "A, B"
   ]
  },
  {
   "cell_type": "code",
   "execution_count": 98,
   "id": "6ad21ad0-5361-47b6-a838-4fc2274be509",
   "metadata": {},
   "outputs": [
    {
     "data": {
      "text/plain": [
       "(2, 1)"
      ]
     },
     "execution_count": 98,
     "metadata": {},
     "output_type": "execute_result"
    }
   ],
   "source": [
    "A, B = B, A\n",
    "\n",
    "A, B"
   ]
  },
  {
   "cell_type": "markdown",
   "id": "f95fb32c-e5d5-40f5-aea1-6f9b6a51baa2",
   "metadata": {},
   "source": [
    "### 반복문\n",
    "- 프로그램 내에서 똑같은 명령을 일정 횟수만큼 반복하여 수행하도록 제어하는 명령문\n",
    "```python\n",
    "while 조건식 : # 반복 횟수가 명확하지 않을 때!\n",
    "    코드블록\n",
    "    코드블록...\n",
    "\n",
    "for 변수 in 시퀀스 자료 구조 : # 반복 횟수가 명확할 때!\n",
    "    코드블록\n",
    "    코드블록\n",
    "```\n",
    "- break : 반복을 종료하고, 아래로 빠져나오는 기능\n",
    "- continue : 위(조건식, 다음 요소)로 올라가는 기능"
   ]
  },
  {
   "cell_type": "code",
   "execution_count": 100,
   "id": "59da19fb-08be-467c-a1b8-3bc458dbb7af",
   "metadata": {},
   "outputs": [
    {
     "name": "stdin",
     "output_type": "stream",
     "text": [
      "True, 공백 입력 >>  123\n",
      "True, 공백 입력 >>  \n"
     ]
    }
   ],
   "source": [
    "user_input = True # 초기값 설정\n",
    "\n",
    "while user_input :\n",
    "    user_input = bool(input(\"True, 공백 입력 >> \"))\n",
    "    "
   ]
  },
  {
   "cell_type": "code",
   "execution_count": 101,
   "id": "1ff11e38-a4db-4941-b306-ce5e336927b0",
   "metadata": {},
   "outputs": [
    {
     "name": "stdout",
     "output_type": "stream",
     "text": [
      "피자\n",
      "햄버거\n",
      "치킨\n"
     ]
    }
   ],
   "source": [
    "food_list = [\"피자\", \"햄버거\", \"치킨\"]\n",
    "\n",
    "for food in food_list :\n",
    "    print(food)"
   ]
  },
  {
   "cell_type": "code",
   "execution_count": 105,
   "id": "f3863298-b6f7-4534-b0d7-ccf9cf62123d",
   "metadata": {},
   "outputs": [
    {
     "name": "stdout",
     "output_type": "stream",
     "text": [
      "1\n",
      "3\n"
     ]
    }
   ],
   "source": [
    "# range(시작값, 끝값[, 스텝]) : 시작값부터 끝값까지 일련의 순서로 범위를 만들어내는 기능\n",
    "# range([시작값, ] 끝값 [, 스텝])\n",
    "\n",
    "for i in range(1, 5, 2) : \n",
    "    print(i)"
   ]
  },
  {
   "cell_type": "code",
   "execution_count": 110,
   "id": "e3a6fa13-b8e5-4e17-97af-b444e2597a41",
   "metadata": {},
   "outputs": [
    {
     "name": "stdout",
     "output_type": "stream",
     "text": [
      "90\n",
      "60\n",
      "45\n",
      "50\n",
      "99\n"
     ]
    }
   ],
   "source": [
    "score_list = [90, 60, 45, 50, 99]\n",
    "\n",
    "for i in range(len(score_list)) : # range(len()) : 인덱스 번호로도 for문 활용이 가능!\n",
    "    print(score_list[i])"
   ]
  },
  {
   "cell_type": "code",
   "execution_count": null,
   "id": "b0bef0a7-e44e-4764-a585-d6d5f8438ffa",
   "metadata": {},
   "outputs": [],
   "source": []
  }
 ],
 "metadata": {
  "kernelspec": {
   "display_name": "Python 3 (ipykernel)",
   "language": "python",
   "name": "python3"
  },
  "language_info": {
   "codemirror_mode": {
    "name": "ipython",
    "version": 3
   },
   "file_extension": ".py",
   "mimetype": "text/x-python",
   "name": "python",
   "nbconvert_exporter": "python",
   "pygments_lexer": "ipython3",
   "version": "3.11.7"
  }
 },
 "nbformat": 4,
 "nbformat_minor": 5
}
