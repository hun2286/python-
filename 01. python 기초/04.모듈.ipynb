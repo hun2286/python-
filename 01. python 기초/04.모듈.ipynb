{
 "cells": [
  {
   "cell_type": "code",
   "execution_count": 1,
   "id": "e9202a18-5a0c-4a61-b2e9-97c713324abf",
   "metadata": {},
   "outputs": [],
   "source": [
    "A = 1\n",
    "B = 2\n",
    "\n",
    "def add(*args) :\n",
    "    return sum(args)"
   ]
  },
  {
   "cell_type": "code",
   "execution_count": 2,
   "id": "128e1ffd-4ed4-4c08-b3ed-39485fac5e47",
   "metadata": {},
   "outputs": [
    {
     "name": "stderr",
     "output_type": "stream",
     "text": [
      "[NbConvertApp] Converting notebook 04.모듈.ipynb to script\n",
      "[NbConvertApp] Writing 219 bytes to 04.모듈.py\n"
     ]
    }
   ],
   "source": [
    "!jupyter nbconvert --to script 04.모듈.ipynb\n",
    "\n",
    "# ! -> python 언어가 아닌 프롬프트 명렁어(스크립트문)\n",
    "# jupyter nbconvert : 주피터 파일(ipynb)을 다른 형식으로 변환할 수 있는 명렁어(기본으로 .py로 변환)\n",
    "# --to : 타겟 지정\n",
    "# script 파일명 : 타겟의 형식"
   ]
  }
 ],
 "metadata": {
  "kernelspec": {
   "display_name": "Python 3 (ipykernel)",
   "language": "python",
   "name": "python3"
  },
  "language_info": {
   "codemirror_mode": {
    "name": "ipython",
    "version": 3
   },
   "file_extension": ".py",
   "mimetype": "text/x-python",
   "name": "python",
   "nbconvert_exporter": "python",
   "pygments_lexer": "ipython3",
   "version": "3.11.7"
  }
 },
 "nbformat": 4,
 "nbformat_minor": 5
}
