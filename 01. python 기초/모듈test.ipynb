{
 "cells": [
  {
   "cell_type": "code",
   "execution_count": 1,
   "id": "caec01ac-8c0e-47d4-91a8-898decde0bdb",
   "metadata": {},
   "outputs": [
    {
     "name": "stderr",
     "output_type": "stream",
     "text": [
      "[NbConvertApp] Converting notebook 04.모듈.ipynb to script\n",
      "[NbConvertApp] Writing 328 bytes to 04.모듈.py\n"
     ]
    }
   ],
   "source": [
    "# 모듈 불러오기!\n",
    "import 모듈"
   ]
  },
  {
   "cell_type": "code",
   "execution_count": 2,
   "id": "acd9707f-5d35-4c76-b9b7-8f0e287c2680",
   "metadata": {},
   "outputs": [
    {
     "data": {
      "text/plain": [
       "1"
      ]
     },
     "execution_count": 2,
     "metadata": {},
     "output_type": "execute_result"
    }
   ],
   "source": [
    "# 속성 가져오기!\n",
    "모듈.A"
   ]
  },
  {
   "cell_type": "code",
   "execution_count": 3,
   "id": "25784992-9976-4bdc-a638-147caaba63ed",
   "metadata": {},
   "outputs": [
    {
     "data": {
      "text/plain": [
       "2"
      ]
     },
     "execution_count": 3,
     "metadata": {},
     "output_type": "execute_result"
    }
   ],
   "source": [
    "모듈.B"
   ]
  },
  {
   "cell_type": "code",
   "execution_count": 7,
   "id": "62832cee-29d3-4435-ab9b-45727b159dd9",
   "metadata": {},
   "outputs": [
    {
     "data": {
      "text/plain": [
       "10"
      ]
     },
     "execution_count": 7,
     "metadata": {},
     "output_type": "execute_result"
    }
   ],
   "source": [
    "# 기능(함수) 활용하기!\n",
    "모듈.add(1, 2, 3, 4)"
   ]
  }
 ],
 "metadata": {
  "kernelspec": {
   "display_name": "Python 3 (ipykernel)",
   "language": "python",
   "name": "python3"
  },
  "language_info": {
   "codemirror_mode": {
    "name": "ipython",
    "version": 3
   },
   "file_extension": ".py",
   "mimetype": "text/x-python",
   "name": "python",
   "nbconvert_exporter": "python",
   "pygments_lexer": "ipython3",
   "version": "3.11.7"
  }
 },
 "nbformat": 4,
 "nbformat_minor": 5
}
