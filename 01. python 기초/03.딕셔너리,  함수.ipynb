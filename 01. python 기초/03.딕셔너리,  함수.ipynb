{
 "cells": [
  {
   "cell_type": "markdown",
   "id": "3264d468-d927-401c-b967-1f889dadb389",
   "metadata": {},
   "source": [
    "### 딕셔너리(dictionary)\n",
    "- 파이썬에서 제공되는 자료형 중 하나\n",
    "- 말 그대로 사전을 의미\n",
    "- {kye : value, key : value, ...} 형태\n",
    "- 각각의 속성이나 개성을 표현할 때 딕셔너리 활용\n",
    "- 순서가 없는 객체의 집합"
   ]
  },
  {
   "cell_type": "code",
   "execution_count": 13,
   "id": "bdc43a59-66d2-4ec1-96e3-1c7542ac7c9f",
   "metadata": {},
   "outputs": [
    {
     "data": {
      "text/plain": [
       "{'key': 'value', 'name': 'HM', 'age': 20, 'phone': '010-1234'}"
      ]
     },
     "execution_count": 13,
     "metadata": {},
     "output_type": "execute_result"
    }
   ],
   "source": [
    "dict1 = {\"key\" : \"value\", \"name\" : \"HM\", \"age\" : 20, \"phone\" : \"010-1234\"}\n",
    "dict1"
   ]
  },
  {
   "cell_type": "code",
   "execution_count": 14,
   "id": "140e1205-a445-42c1-8e7c-049bddad67fa",
   "metadata": {},
   "outputs": [],
   "source": [
    "# 추가 : 없는 key값을 지정(인덱싱)하고 대입\n",
    "dict1[\"birth\"] = \"01/01\""
   ]
  },
  {
   "cell_type": "code",
   "execution_count": 15,
   "id": "3df010bd-f207-40ac-bb5f-e90247021439",
   "metadata": {},
   "outputs": [
    {
     "data": {
      "text/plain": [
       "{'key': 'value',\n",
       " 'name': 'HM',\n",
       " 'age': 20,\n",
       " 'phone': '010-1234',\n",
       " 'birth': '01/01'}"
      ]
     },
     "execution_count": 15,
     "metadata": {},
     "output_type": "execute_result"
    }
   ],
   "source": [
    "dict1"
   ]
  },
  {
   "cell_type": "code",
   "execution_count": 16,
   "id": "ddbb8ec9-4c4b-4392-9cc6-29ca9f56d633",
   "metadata": {},
   "outputs": [],
   "source": [
    "# 수정 : 있는 key값을 지정(인덱싱)하고 대입\n",
    "dict1[\"phone\"] = \"011\""
   ]
  },
  {
   "cell_type": "code",
   "execution_count": 17,
   "id": "9b7c7166-1748-4158-8b5a-b5ac1e2bc415",
   "metadata": {},
   "outputs": [
    {
     "data": {
      "text/plain": [
       "{'key': 'value', 'name': 'HM', 'age': 20, 'phone': '011', 'birth': '01/01'}"
      ]
     },
     "execution_count": 17,
     "metadata": {},
     "output_type": "execute_result"
    }
   ],
   "source": [
    "dict1"
   ]
  },
  {
   "cell_type": "code",
   "execution_count": 18,
   "id": "fbb38d51-8273-42df-9372-fc452dd3e245",
   "metadata": {},
   "outputs": [],
   "source": [
    "# 삭제\n",
    "del dict1[\"birth\"]"
   ]
  },
  {
   "cell_type": "code",
   "execution_count": 19,
   "id": "7947c486-672b-4975-899f-ae1992cfb5c5",
   "metadata": {},
   "outputs": [
    {
     "data": {
      "text/plain": [
       "{'key': 'value', 'name': 'HM', 'age': 20, 'phone': '011'}"
      ]
     },
     "execution_count": 19,
     "metadata": {},
     "output_type": "execute_result"
    }
   ],
   "source": [
    "dict1"
   ]
  },
  {
   "cell_type": "code",
   "execution_count": 23,
   "id": "331c386c-031b-4bc4-ab61-bf2c31088b58",
   "metadata": {},
   "outputs": [
    {
     "data": {
      "text/plain": [
       "'HM'"
      ]
     },
     "execution_count": 23,
     "metadata": {},
     "output_type": "execute_result"
    }
   ],
   "source": [
    "dict1[\"name\"] # 딕셔너리 인덱싱"
   ]
  },
  {
   "cell_type": "code",
   "execution_count": 28,
   "id": "3b48bc3a-1065-4285-b524-f78a6e9a6bbf",
   "metadata": {},
   "outputs": [
    {
     "data": {
      "text/plain": [
       "dict_keys(['key', 'name', 'age', 'phone'])"
      ]
     },
     "execution_count": 28,
     "metadata": {},
     "output_type": "execute_result"
    }
   ],
   "source": [
    "# key값들만 확인\n",
    "dict1.keys()"
   ]
  },
  {
   "cell_type": "code",
   "execution_count": 33,
   "id": "6b0e1813-05f1-43c7-9955-b5fe88493f88",
   "metadata": {},
   "outputs": [
    {
     "data": {
      "text/plain": [
       "'age'"
      ]
     },
     "execution_count": 33,
     "metadata": {},
     "output_type": "execute_result"
    }
   ],
   "source": [
    "list(dict1.keys())[2] # key값을 지정하고 자하는 경우, 딕셔너리는 순서가 없기 떄문에 순서를 만들어 주면 됨! -> list로 형변환"
   ]
  },
  {
   "cell_type": "code",
   "execution_count": 29,
   "id": "21d50b89-8fa8-433e-bfe4-2b668b0e0a35",
   "metadata": {},
   "outputs": [
    {
     "data": {
      "text/plain": [
       "dict_values(['value', 'HM', 20, '011'])"
      ]
     },
     "execution_count": 29,
     "metadata": {},
     "output_type": "execute_result"
    }
   ],
   "source": [
    "# value값들만 확인\n",
    "dict1.values()"
   ]
  },
  {
   "cell_type": "code",
   "execution_count": 30,
   "id": "fb6b60ce-3d4d-47af-8017-8bf0238851a3",
   "metadata": {},
   "outputs": [
    {
     "data": {
      "text/plain": [
       "dict_items([('key', 'value'), ('name', 'HM'), ('age', 20), ('phone', '011')])"
      ]
     },
     "execution_count": 30,
     "metadata": {},
     "output_type": "execute_result"
    }
   ],
   "source": [
    "# key와 value를 확인\n",
    "dict1.items()"
   ]
  },
  {
   "cell_type": "code",
   "execution_count": 41,
   "id": "39b65a4b-a4c0-4b35-8934-65ba127c5977",
   "metadata": {},
   "outputs": [
    {
     "data": {
      "text/plain": [
       "'011'"
      ]
     },
     "execution_count": 41,
     "metadata": {},
     "output_type": "execute_result"
    }
   ],
   "source": [
    "list(dict1.items())[-1][1]"
   ]
  },
  {
   "cell_type": "code",
   "execution_count": 43,
   "id": "3984e458-d129-46de-a64f-e6f41c05979d",
   "metadata": {},
   "outputs": [
    {
     "name": "stdout",
     "output_type": "stream",
     "text": [
      "name\n",
      "HM\n",
      "age\n",
      "20\n",
      "phone\n",
      "011\n"
     ]
    }
   ],
   "source": [
    "# 반복문 활용\n",
    "# 딕셔너리에서 특정 범위만큼 들여다보고 싶은 경우, list로 형변환 후 슬라이싱 활용!\n",
    "\n",
    "# 튜플로 패킹되어 있는 요소를 들여다볼 때, 각 개수만큼 변수를 선언해서 반복문을 활용!\n",
    "for key, value in list(dict1.items())[1:] : \n",
    "    print(key)\n",
    "    print(value)"
   ]
  },
  {
   "cell_type": "markdown",
   "id": "3ff1c99c-ca41-40d0-8bea-adf1f16e5df0",
   "metadata": {},
   "source": [
    "### 함수(Function)\n",
    "- <b>호출</b> 될 때 <b>특정 기능을 수행</b>하는 <b>재상ㅇ 가능</b>한 코드블록"
   ]
  },
  {
   "cell_type": "markdown",
   "id": "06640f67-0dab-4554-a825-63a073eca5d3",
   "metadata": {},
   "source": [
    "- 함수 정의\n",
    "```python\n",
    "def 함수명(매개변수) :\n",
    "    코드블록\n",
    "    return 결괏값\n",
    "```\n",
    "\n",
    "- 함수 호출\n",
    "\n",
    "     함수명(인수)"
   ]
  },
  {
   "cell_type": "code",
   "execution_count": 51,
   "id": "f9c1c8ff-ca91-4de7-b362-30ebbc4d79f0",
   "metadata": {},
   "outputs": [],
   "source": [
    "# 함수 정의\n",
    "def add(a, b = 5) :\n",
    "    print(f\"a : {a}\")\n",
    "    print(f\"b : {b}\")\n",
    "    result = a + b\n",
    "    return result"
   ]
  },
  {
   "cell_type": "code",
   "execution_count": 53,
   "id": "1eda7152-114b-4203-a419-448a63eb9ec6",
   "metadata": {},
   "outputs": [
    {
     "name": "stdout",
     "output_type": "stream",
     "text": [
      "a : 1\n",
      "b : 7\n"
     ]
    },
    {
     "data": {
      "text/plain": [
       "8"
      ]
     },
     "execution_count": 53,
     "metadata": {},
     "output_type": "execute_result"
    }
   ],
   "source": [
    "# 함수 호출\n",
    "num1 = 1\n",
    "num2 = 2\n",
    "\n",
    "add(num1, b = 7)"
   ]
  },
  {
   "cell_type": "code",
   "execution_count": 58,
   "id": "50dd099b-be13-41b1-9ec6-d113dd2a698b",
   "metadata": {},
   "outputs": [
    {
     "name": "stdout",
     "output_type": "stream",
     "text": [
      "안녕하세요반갑습니다\n"
     ]
    }
   ],
   "source": [
    "print(\"안녕\", end = \"\")\n",
    "print(\"하세요\", \"반갑습니다\", sep = \"\")"
   ]
  },
  {
   "cell_type": "markdown",
   "id": "b5df254e-379b-4376-a803-9259e0d5ce22",
   "metadata": {},
   "source": [
    "### 함수의 특성\n",
    "1. 매개변수의 순서대로 인자값이 전달\n",
    "2. 매개변수를 지정해서 호출 시 순서 상관 없이 전달\n",
    "3. 함수 정의 시 기본값을 세팅\n",
    "4. return 결괏값은 언제나 하나!!\n",
    "5. 입력값이나 결괏값이 있을 수도 있고, 없을 수도 있음!"
   ]
  },
  {
   "cell_type": "code",
   "execution_count": 60,
   "id": "0eb6c753-a123-4d65-89ac-5b5e7fc365b9",
   "metadata": {},
   "outputs": [],
   "source": [
    "# return의 결괏값은 언제나 하나!\n",
    "def add_mul(a, b):\n",
    "    return a + b\n",
    "    return a * b"
   ]
  },
  {
   "cell_type": "code",
   "execution_count": 61,
   "id": "a5b8d7f8-09a7-45d0-afa9-9c9f4df8167e",
   "metadata": {},
   "outputs": [
    {
     "data": {
      "text/plain": [
       "11"
      ]
     },
     "execution_count": 61,
     "metadata": {},
     "output_type": "execute_result"
    }
   ],
   "source": [
    "add_mul(4, 7)"
   ]
  },
  {
   "cell_type": "code",
   "execution_count": 65,
   "id": "d1b6d114-7e3d-482e-9b82-9b629983aec6",
   "metadata": {},
   "outputs": [],
   "source": [
    "def add_mul(a, b):\n",
    "    return a + b, a * b # 튜플로 패킹되서 튜플 하나가 나옴!"
   ]
  },
  {
   "cell_type": "code",
   "execution_count": 64,
   "id": "b026d5f9-8e20-4aef-95b0-864980a7046e",
   "metadata": {},
   "outputs": [
    {
     "data": {
      "text/plain": [
       "(11, 28)"
      ]
     },
     "execution_count": 64,
     "metadata": {},
     "output_type": "execute_result"
    }
   ],
   "source": [
    "add_mul(4, 7)"
   ]
  },
  {
   "cell_type": "code",
   "execution_count": 69,
   "id": "2ca225c5-3482-41a9-8694-1d3bea8824bd",
   "metadata": {},
   "outputs": [],
   "source": [
    "# 입력값이나 결괏값이 있을 수도 있고, 없을 수도 있음!\n",
    "\n",
    "# 입력값이 없고, 결괏값이 있는 함수!\n",
    "def say() :\n",
    "    return \"hi\""
   ]
  },
  {
   "cell_type": "code",
   "execution_count": 70,
   "id": "a7c718d3-028a-4407-b407-88e87bb03958",
   "metadata": {},
   "outputs": [
    {
     "data": {
      "text/plain": [
       "'hi'"
      ]
     },
     "execution_count": 70,
     "metadata": {},
     "output_type": "execute_result"
    }
   ],
   "source": [
    "say()"
   ]
  },
  {
   "cell_type": "code",
   "execution_count": 71,
   "id": "aae11d1c-9fdc-4ee6-b589-5c426a91c3b4",
   "metadata": {},
   "outputs": [],
   "source": [
    "# 입력값과 결괏값이 없는 함수!\n",
    "def say() :\n",
    "    print(\"hi\")"
   ]
  },
  {
   "cell_type": "code",
   "execution_count": 73,
   "id": "5ec0017d-d5b5-4244-963b-2d92f1601495",
   "metadata": {},
   "outputs": [
    {
     "name": "stdout",
     "output_type": "stream",
     "text": [
      "hi\n",
      "None\n"
     ]
    }
   ],
   "source": [
    "a = say()\n",
    "print(a)"
   ]
  },
  {
   "cell_type": "code",
   "execution_count": 74,
   "id": "d31d2118-ba81-4018-9592-d52ed43448e5",
   "metadata": {},
   "outputs": [],
   "source": [
    "# 만약에 내가 만든 함수를 다른 개발자가 보고 이해할 수 없다면...?\n",
    "\n",
    "# Docstring(독스트링) : 함수의 설명문\n",
    "def add(a, b = 5) :\n",
    "    \"\"\"\n",
    "    독스트링 입니당, 더해주는 함수임!\n",
    "    \"\"\"\n",
    "    print(f\"a : {a}\")\n",
    "    print(f\"b : {b}\")\n",
    "    result = a + b\n",
    "    return result"
   ]
  },
  {
   "cell_type": "code",
   "execution_count": null,
   "id": "0fc33dd9-651b-4ea0-a517-90fe2f11139b",
   "metadata": {},
   "outputs": [],
   "source": [
    "add()"
   ]
  },
  {
   "cell_type": "code",
   "execution_count": 82,
   "id": "42a6d9ef-b702-4ae6-8fef-c3c6ded1245b",
   "metadata": {},
   "outputs": [],
   "source": [
    "# 입력값의 개수가 정해져 있지 않다면...?\n",
    "# 가변매개변수(*) : 함수를 호출 시 몇 개의 인수가 전달 될 지 알 수 없다면, 호출자 입장에서 매개변수의 개수를 정할 수 있도록 선언하는 기능!\n",
    "def add(*args) :\n",
    "    print(args)\n",
    "    result = sum(args)\n",
    "    return result"
   ]
  },
  {
   "cell_type": "code",
   "execution_count": 92,
   "id": "d7feea28-3ea9-4005-98dd-e0ad409706af",
   "metadata": {},
   "outputs": [
    {
     "name": "stdout",
     "output_type": "stream",
     "text": [
      "(1, 2, 3, 4)\n"
     ]
    },
    {
     "data": {
      "text/plain": [
       "10"
      ]
     },
     "execution_count": 92,
     "metadata": {},
     "output_type": "execute_result"
    }
   ],
   "source": [
    "add(1, 2, 3, 4)"
   ]
  },
  {
   "cell_type": "code",
   "execution_count": 103,
   "id": "9d31e481-5605-4257-97e5-83f5d3458a66",
   "metadata": {},
   "outputs": [
    {
     "name": "stdout",
     "output_type": "stream",
     "text": [
      "{'일본', '한국', '중국'}\n"
     ]
    }
   ],
   "source": [
    "# 집합\n",
    "# 중괄호 -> **중복 없음, **순서 없음\n",
    "set1 = {\"한국\", \"일본\", \"중국\", \"한국\"}\n",
    "print(set1)"
   ]
  }
 ],
 "metadata": {
  "kernelspec": {
   "display_name": "Python 3 (ipykernel)",
   "language": "python",
   "name": "python3"
  },
  "language_info": {
   "codemirror_mode": {
    "name": "ipython",
    "version": 3
   },
   "file_extension": ".py",
   "mimetype": "text/x-python",
   "name": "python",
   "nbconvert_exporter": "python",
   "pygments_lexer": "ipython3",
   "version": "3.11.7"
  }
 },
 "nbformat": 4,
 "nbformat_minor": 5
}
